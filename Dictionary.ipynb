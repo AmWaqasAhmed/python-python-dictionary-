{
 "cells": [
  {
   "cell_type": "markdown",
   "metadata": {},
   "source": [
    "# Dictionary "
   ]
  },
  {
   "cell_type": "markdown",
   "metadata": {},
   "source": [
    "## Dictionary definition : \n",
    "`Dictionary is immutable. It's value could be create,update and delete.`\n",
    "`Dictionary has pre-define function to help coder to code easily`.\n",
    "### Structure : dictionary = {key:values}"
   ]
  },
  {
   "cell_type": "markdown",
   "metadata": {},
   "source": [
    "# Dictionaries vs. Lists"
   ]
  },
  {
   "cell_type": "code",
   "execution_count": null,
   "metadata": {},
   "outputs": [],
   "source": [
    "_list_1 = ['a','b','c','d','e']\n",
    "_list_2 = ['e','a','c','b','d']\n",
    "_list_1 == _list_2"
   ]
  },
  {
   "cell_type": "code",
   "execution_count": 16,
   "metadata": {},
   "outputs": [
    {
     "data": {
      "text/plain": [
       "True"
      ]
     },
     "execution_count": 16,
     "metadata": {},
     "output_type": "execute_result"
    }
   ],
   "source": [
    "dis_1 = {'a':1,'b':2,'c':3,'d':4,'e':5}\n",
    "dis_2 = {'d':4,'a':1,'e':5,'c':3,'b':2}\n",
    "\n",
    "dis_1 == dis_2"
   ]
  },
  {
   "cell_type": "code",
   "execution_count": 19,
   "metadata": {},
   "outputs": [],
   "source": [
    "def dic(key,value):\n",
    "    dis = {};\n",
    "    dis[key] = value;\n",
    "    return (dis)"
   ]
  },
  {
   "cell_type": "code",
   "execution_count": 21,
   "metadata": {},
   "outputs": [
    {
     "name": "stdout",
     "output_type": "stream",
     "text": [
      "pakistan\n",
      "karachi\n"
     ]
    },
    {
     "data": {
      "text/plain": [
       "{'pakistan': 'karachi'}"
      ]
     },
     "execution_count": 21,
     "metadata": {},
     "output_type": "execute_result"
    }
   ],
   "source": [
    "key = input()\n",
    "value = input()\n",
    "dic(key,value)"
   ]
  },
  {
   "cell_type": "code",
   "execution_count": 32,
   "metadata": {},
   "outputs": [],
   "source": [
    "def birthday_data():\n",
    "    birthdays = {}\n",
    "    while True:\n",
    "        print('Enter a name: (blank to quit)')\n",
    "        name = input()\n",
    "        if name == '':\n",
    "            break\n",
    "        if name in birthdays:\n",
    "             print(birthdays[name] + ' is the birthday of ' + name)\n",
    "        else:\n",
    "            print('**********X**********X***********')\n",
    "            print('I do not have birthday information for ' + name)\n",
    "            print('What is their birthday?')\n",
    "            bday = input()\n",
    "            birthdays[name] = bday\n",
    "            print('Birthday database updated.')\n",
    "            print('**********X**********X***********')\n",
    "\n",
    "    \n",
    "    \n",
    "    return print('Update DataBase of Birthday: {}.'.format(birthdays))"
   ]
  },
  {
   "cell_type": "code",
   "execution_count": 33,
   "metadata": {},
   "outputs": [
    {
     "name": "stdout",
     "output_type": "stream",
     "text": [
      "Enter a name: (blank to quit)\n",
      "pakistan\n",
      "**********X**********X***********\n",
      "I do not have birthday information for pakistan\n",
      "What is their birthday?\n",
      "1947\n",
      "Birthday database updated.\n",
      "**********X**********X***********\n",
      "Enter a name: (blank to quit)\n",
      "\n",
      "Update DataBase of Birthday: {'pakistan': '1947'}.\n"
     ]
    }
   ],
   "source": [
    "birthday_data()"
   ]
  },
  {
   "cell_type": "markdown",
   "metadata": {},
   "source": [
    "#  Dictonary Functions\n",
    "### key(), value() and item()"
   ]
  },
  {
   "cell_type": "code",
   "execution_count": 36,
   "metadata": {},
   "outputs": [
    {
     "name": "stdout",
     "output_type": "stream",
     "text": [
      "key dict_keys(['pakistan', 'turkey']) \n",
      "\n",
      "values dict_values(['22M', '7M']) \n",
      "\n",
      "items dict_items([('pakistan', '22M'), ('turkey', '7M')]) \n",
      "\n"
     ]
    }
   ],
   "source": [
    "dis = {'pakistan':'22M','turkey':'7M'}  # key and values \n",
    "\n",
    "print(\"key\",dis.keys(),'\\n')\n",
    "\n",
    "print('values',dis.values(),'\\n')\n",
    "\n",
    "print('items',dis.items(),'\\n')\n"
   ]
  },
  {
   "cell_type": "markdown",
   "metadata": {},
   "source": [
    "# Method \n",
    "\n",
    "### 1. get()\n",
    "### 2. setdeafult()\n",
    "### 3. prettyprinting()"
   ]
  },
  {
   "cell_type": "code",
   "execution_count": 12,
   "metadata": {},
   "outputs": [],
   "source": [
    "# get(): method that takes two\n",
    "# arguments the key of the value to retrieve and a fallback value to return if\n",
    "# that key does not exist.\n",
    "\n",
    "def fruiteRate():\n",
    "    fruitPrice = {'apple':120,'mango':100,'watermelon':'80'}\n",
    "    while True:\n",
    "        print(\"\\n**************************** \\n\")\n",
    "        print('Enter a name: (blank to quit)')\n",
    "        fruit = input()\n",
    "        if fruit == '':\n",
    "            break;\n",
    "        else:\n",
    "            print(\"Fruite Price of\" , fruit ,\"is \" , fruitPrice.get(fruit));\n",
    "\n",
    "# setdeafult(): The setdefault() method offers a way to do this in one line of code. The\n",
    "# first argument passed to the method is the key to check for, and the second\n",
    "# argument is the value to set at that key if the key does not exist. If the key\n",
    "# does exist, the setdefault() method returns the key’s value. Enter the following\n",
    "# into the interactive shell\n",
    "\n",
    "def updateFruitePrice():\n",
    "    \n",
    "    fruitPrice = {'apple':120,'mango':100,'watermelon':'80'}\n",
    "    while True:\n",
    "        print(\"\\n**************************** \\n\")\n",
    "        print('Enter Name of Fruit: (blank to quit)')\n",
    "        fruit = input()\n",
    "        if fruit == '':\n",
    "            break;\n",
    "        if fruit not in fruitPrice:\n",
    "            print('Enter Price of Fruit: (blank to quit)')\n",
    "            addFruitPrice = input();\n",
    "            fruitPrice.setdefault(fruit,addFruitPrice);\n",
    "    return fruitPrice\n",
    "\n",
    "\n",
    "def prettyprint():\n",
    "    # If you import the pprint module into your programs, you’ll have access to\n",
    "    # the pprint() and pformat() functions that will “pretty print” a dictionary’s\n",
    "    # values. This is helpful when you want a cleaner display of the items in a\n",
    "    # dictionary than what print() provides.''\n",
    "\n",
    "    import pprint as pp\n",
    "    message = \"If you import the pprint module into programs, you'll have access to print and 'pfromat()' functions that will pretty print a distionary's values.This helpful when you want a cleaner display of items in a dictionarythan what print() provides.\"\n",
    "    count = {}\n",
    "    for characters in message:\n",
    "        count.setdefault(characters,0)\n",
    "        count[characters] = count[characters]+1\n",
    "    print(\"Normal Print\")\n",
    "    print(count)\n",
    "\n",
    "    print(\"pprint\");\n",
    "    pp.pprint(count);\n"
   ]
  },
  {
   "cell_type": "code",
   "execution_count": 9,
   "metadata": {},
   "outputs": [
    {
     "data": {
      "text/plain": [
       "{'I': 1,\n",
       " 'f': 5,\n",
       " ' ': 37,\n",
       " 'y': 7,\n",
       " 'o': 14,\n",
       " 'u': 7,\n",
       " 'i': 17,\n",
       " 'm': 5,\n",
       " 'p': 12,\n",
       " 'r': 13,\n",
       " 't': 20,\n",
       " 'h': 8,\n",
       " 'e': 12,\n",
       " 'n': 15,\n",
       " 'd': 6,\n",
       " 'l': 10,\n",
       " 'g': 1,\n",
       " 'a': 17,\n",
       " 's': 11,\n",
       " ',': 1,\n",
       " \"'\": 4,\n",
       " 'v': 3,\n",
       " 'c': 5,\n",
       " '(': 2,\n",
       " ')': 2,\n",
       " 'w': 4,\n",
       " '.': 2,\n",
       " 'T': 1}"
      ]
     },
     "execution_count": 9,
     "metadata": {},
     "output_type": "execute_result"
    }
   ],
   "source": []
  },
  {
   "cell_type": "markdown",
   "metadata": {},
   "source": [
    "# Exp - 1"
   ]
  },
  {
   "cell_type": "code",
   "execution_count": 42,
   "metadata": {},
   "outputs": [],
   "source": [
    "def Men(menu):\n",
    "    \n",
    "    for menukey,menuitem in menu.items():\n",
    "        print(\"{}. {}\".format(menukey,menuitem))    \n",
    "menu = {\n",
    "      1 : \"TASK 1\",\n",
    "      2 : \"TASK 2\",\n",
    "      3 : \"TASK 3\",\n",
    "      4 : \"TASK 4\"\n",
    "        }\n",
    "   "
   ]
  },
  {
   "cell_type": "code",
   "execution_count": 43,
   "metadata": {},
   "outputs": [
    {
     "name": "stdout",
     "output_type": "stream",
     "text": [
      "1. TASK 1\n",
      "2. TASK 2\n",
      "3. TASK 3\n",
      "4. TASK 4\n"
     ]
    }
   ],
   "source": [
    "Men(menu)"
   ]
  },
  {
   "cell_type": "code",
   "execution_count": null,
   "metadata": {},
   "outputs": [],
   "source": []
  }
 ],
 "metadata": {
  "kernelspec": {
   "display_name": "Python 3",
   "language": "python",
   "name": "python3"
  },
  "language_info": {
   "codemirror_mode": {
    "name": "ipython",
    "version": 3
   },
   "file_extension": ".py",
   "mimetype": "text/x-python",
   "name": "python",
   "nbconvert_exporter": "python",
   "pygments_lexer": "ipython3",
   "version": "3.7.3"
  }
 },
 "nbformat": 4,
 "nbformat_minor": 2
}
